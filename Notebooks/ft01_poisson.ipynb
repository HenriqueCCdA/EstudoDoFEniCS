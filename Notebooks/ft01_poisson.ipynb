{
  "nbformat": 4,
  "nbformat_minor": 0,
  "metadata": {
    "colab": {
      "name": "ft01_poisson.ipynb",
      "provenance": [],
      "authorship_tag": "ABX9TyOj4eVWTVx3UjEPWQu5KoeJ",
      "include_colab_link": true
    },
    "kernelspec": {
      "name": "python3",
      "display_name": "Python 3"
    },
    "language_info": {
      "name": "python"
    }
  },
  "cells": [
    {
      "cell_type": "markdown",
      "metadata": {
        "id": "view-in-github",
        "colab_type": "text"
      },
      "source": [
        "<a href=\"https://colab.research.google.com/github/HenriqueCCdA/EstudoDoFEniCS/blob/main/Notebooks/ft01_poisson.ipynb\" target=\"_parent\"><img src=\"https://colab.research.google.com/assets/colab-badge.svg\" alt=\"Open In Colab\"/></a>"
      ]
    },
    {
      "cell_type": "markdown",
      "metadata": {
        "id": "tSIsKn6udSmH"
      },
      "source": [
        "# Instalando o FeniCS"
      ]
    },
    {
      "cell_type": "code",
      "metadata": {
        "id": "e8ega0ocU9G_"
      },
      "source": [
        "# FEniCS\n",
        "try:\n",
        "    import dolfin\n",
        "except ImportError:\n",
        "    !wget \"https://fem-on-colab.github.io/releases/fenics-install.sh\" -O \"/tmp/fenics-install.sh\" && bash \"/tmp/fenics-install.sh\"\n",
        "    import dolfin"
      ],
      "execution_count": null,
      "outputs": []
    },
    {
      "cell_type": "markdown",
      "metadata": {
        "id": "o3fbbl7YdbGb"
      },
      "source": [
        "#Importando"
      ]
    },
    {
      "cell_type": "code",
      "metadata": {
        "id": "WvyNU3ZoWtKo"
      },
      "source": [
        "from fenics import *"
      ],
      "execution_count": 4,
      "outputs": []
    },
    {
      "cell_type": "markdown",
      "metadata": {
        "id": "v73-uGwYibk0"
      },
      "source": [
        "# Motando o problema"
      ]
    },
    {
      "cell_type": "code",
      "metadata": {
        "id": "lIR5yBvYXNft"
      },
      "source": [
        "# Criando a melha\n",
        "mesh = UnitSquareMesh(8, 8)"
      ],
      "execution_count": 5,
      "outputs": []
    },
    {
      "cell_type": "code",
      "metadata": {
        "colab": {
          "base_uri": "https://localhost:8080/"
        },
        "id": "-5h5rnkldqtB",
        "outputId": "3a22333a-13a1-4133-f4db-329fce8dfdd8"
      },
      "source": [
        "# Definindo funcoes de espaco\n",
        "V = FunctionSpace(mesh, 'P', 1)"
      ],
      "execution_count": 9,
      "outputs": [
        {
          "output_type": "stream",
          "text": [
            "Calling FFC just-in-time (JIT) compiler, this may take some time.\n"
          ],
          "name": "stdout"
        }
      ]
    },
    {
      "cell_type": "code",
      "metadata": {
        "id": "jDZg56ekdrTp"
      },
      "source": [
        "# Definindo condicoes de contorno\n",
        "u_D = Expression('1 + x[0]*x[0] + 2*x[1]*x[1]', degree=2)\n",
        "\n",
        "def boundary(x, on_boundary):\n",
        "    return on_boundary\n",
        "\n",
        "bc = DirichletBC(V, u_D, boundary)"
      ],
      "execution_count": 12,
      "outputs": []
    },
    {
      "cell_type": "code",
      "metadata": {
        "id": "wnK5S-KkeAWg"
      },
      "source": [
        "# Definindo o problema variacional\n",
        "\n",
        "u = TrialFunction(V)\n",
        "v = TestFunction(V)\n",
        "f = Constant(-6.0)\n",
        "a = dot(grad(u), grad(v))*dx\n",
        "L = f*v*dx"
      ],
      "execution_count": 24,
      "outputs": []
    },
    {
      "cell_type": "code",
      "metadata": {
        "colab": {
          "base_uri": "https://localhost:8080/"
        },
        "id": "Fzawab-2esEw",
        "outputId": "c29ae332-c187-48b4-e19e-6fbd8c172335"
      },
      "source": [
        "# Calculo da solucao\n",
        "u = Function(V)\n",
        "solve(a == L, u, bc)"
      ],
      "execution_count": 25,
      "outputs": [
        {
          "output_type": "stream",
          "text": [
            "Calling FFC just-in-time (JIT) compiler, this may take some time.\n",
            "Calling FFC just-in-time (JIT) compiler, this may take some time.\n",
            "Calling FFC just-in-time (JIT) compiler, this may take some time.\n",
            "Calling FFC just-in-time (JIT) compiler, this may take some time.\n",
            "Calling FFC just-in-time (JIT) compiler, this may take some time.\n"
          ],
          "name": "stdout"
        }
      ]
    },
    {
      "cell_type": "code",
      "metadata": {
        "colab": {
          "base_uri": "https://localhost:8080/",
          "height": 303
        },
        "id": "iJkkQPswgZ8E",
        "outputId": "590057e8-4384-4b99-9687-9748f74340ce"
      },
      "source": [
        "# Plota a solucao e a malha\n",
        "\n",
        "plot(u)\n",
        "plot(mesh)"
      ],
      "execution_count": 28,
      "outputs": [
        {
          "output_type": "execute_result",
          "data": {
            "text/plain": [
              "[<matplotlib.lines.Line2D at 0x7f29deddb410>,\n",
              " <matplotlib.lines.Line2D at 0x7f29ded4bc90>]"
            ]
          },
          "metadata": {
            "tags": []
          },
          "execution_count": 28
        },
        {
          "output_type": "display_data",
          "data": {
            "image/png": "[encoded data removed]",
            "text/plain": [
              "<Figure size 432x288 with 1 Axes>"
            ]
          },
          "metadata": {
            "tags": [],
            "needs_background": "light"
          }
        }
      ]
    },
    {
      "cell_type": "code",
      "metadata": {
        "id": "duKugmz1gczL"
      },
      "source": [
        "vtkfile = File('poisson/solution.pvd')\n",
        "vtkfile << u"
      ],
      "execution_count": 30,
      "outputs": []
    },
    {
      "cell_type": "code",
      "metadata": {
        "colab": {
          "base_uri": "https://localhost:8080/"
        },
        "id": "nruegYQvguaL",
        "outputId": "278e4c6b-6170-4966-8af7-2f32bcace486"
      },
      "source": [
        "# Calcula o erro da norma L2\n",
        "\n",
        "error_L2 = errornorm(u_D, u, 'L2')"
      ],
      "execution_count": 31,
      "outputs": [
        {
          "output_type": "stream",
          "text": [
            "Calling FFC just-in-time (JIT) compiler, this may take some time.\n",
            "Calling FFC just-in-time (JIT) compiler, this may take some time.\n",
            "Calling FFC just-in-time (JIT) compiler, this may take some time.\n",
            "Calling FFC just-in-time (JIT) compiler, this may take some time.\n",
            "Calling FFC just-in-time (JIT) compiler, this may take some time.\n",
            "Calling FFC just-in-time (JIT) compiler, this may take some time.\n"
          ],
          "name": "stdout"
        }
      ]
    },
    {
      "cell_type": "code",
      "metadata": {
        "id": "Z0BB53u0hVIY"
      },
      "source": [
        "# Calcula o erro maximo nos vertices\n",
        "vertex_values_u_D = u_D.compute_vertex_values(mesh)\n",
        "vertex_values_u = u.compute_vertex_values(mesh)\n",
        "import numpy as np\n",
        "error_max = np.max(np.abs(vertex_values_u_D - vertex_values_u))"
      ],
      "execution_count": 39,
      "outputs": []
    },
    {
      "cell_type": "code",
      "metadata": {
        "colab": {
          "base_uri": "https://localhost:8080/"
        },
        "id": "JmfhtvFyg_yk",
        "outputId": "452c9cf7-938a-4e45-f321-ed8cd3a83d1c"
      },
      "source": [
        "print(f'erro_L2  = {error_L2}')\n",
        "print(f'erro_max = {error_max}')"
      ],
      "execution_count": 41,
      "outputs": [
        {
          "output_type": "stream",
          "text": [
            "erro_L2  = 0.00823509807335475\n",
            "erro_max = 1.3322676295501878e-15\n"
          ],
          "name": "stdout"
        }
      ]
    },
    {
      "cell_type": "code",
      "metadata": {
        "colab": {
          "base_uri": "https://localhost:8080/",
          "height": 269
        },
        "id": "GSm7v5XYhHki",
        "outputId": "90bac4d8-6cfb-4a48-ef78-1e3743a2b30a"
      },
      "source": [
        "# Hold plot\n",
        "import matplotlib.pyplot as plt\n",
        "plot(u)\n",
        "plt.show()"
      ],
      "execution_count": 43,
      "outputs": [
        {
          "output_type": "display_data",
          "data": {
            "image/png": "[encoded data removed]",
            "text/plain": [
              "<Figure size 432x288 with 1 Axes>"
            ]
          },
          "metadata": {
            "tags": [],
            "needs_background": "light"
          }
        }
      ]
    },
    {
      "cell_type": "code",
      "metadata": {
        "colab": {
          "base_uri": "https://localhost:8080/"
        },
        "id": "7XRO6r8dhOWy",
        "outputId": "879665ed-5e61-4638-b80d-d25664b8a148"
      },
      "source": [
        "vertex_values_u_D"
      ],
      "execution_count": 35,
      "outputs": [
        {
          "output_type": "execute_result",
          "data": {
            "text/plain": [
              "array([1.      , 1.015625, 1.0625  , 1.140625, 1.25    , 1.390625,\n",
              "       1.5625  , 1.765625, 2.      , 1.03125 , 1.046875, 1.09375 ,\n",
              "       1.171875, 1.28125 , 1.421875, 1.59375 , 1.796875, 2.03125 ,\n",
              "       1.125   , 1.140625, 1.1875  , 1.265625, 1.375   , 1.515625,\n",
              "       1.6875  , 1.890625, 2.125   , 1.28125 , 1.296875, 1.34375 ,\n",
              "       1.421875, 1.53125 , 1.671875, 1.84375 , 2.046875, 2.28125 ,\n",
              "       1.5     , 1.515625, 1.5625  , 1.640625, 1.75    , 1.890625,\n",
              "       2.0625  , 2.265625, 2.5     , 1.78125 , 1.796875, 1.84375 ,\n",
              "       1.921875, 2.03125 , 2.171875, 2.34375 , 2.546875, 2.78125 ,\n",
              "       2.125   , 2.140625, 2.1875  , 2.265625, 2.375   , 2.515625,\n",
              "       2.6875  , 2.890625, 3.125   , 2.53125 , 2.546875, 2.59375 ,\n",
              "       2.671875, 2.78125 , 2.921875, 3.09375 , 3.296875, 3.53125 ,\n",
              "       3.      , 3.015625, 3.0625  , 3.140625, 3.25    , 3.390625,\n",
              "       3.5625  , 3.765625, 4.      ])"
            ]
          },
          "metadata": {
            "tags": []
          },
          "execution_count": 35
        }
      ]
    },
    {
      "cell_type": "code",
      "metadata": {
        "colab": {
          "base_uri": "https://localhost:8080/"
        },
        "id": "HxOMI845hhuk",
        "outputId": "d4ceef4d-de97-4338-a380-582c50afa762"
      },
      "source": [
        "vertex_values_u"
      ],
      "execution_count": 38,
      "outputs": [
        {
          "output_type": "execute_result",
          "data": {
            "text/plain": [
              "array([1.      , 1.015625, 1.0625  , 1.140625, 1.25    , 1.390625,\n",
              "       1.5625  , 1.765625, 2.      , 1.03125 , 1.046875, 1.09375 ,\n",
              "       1.171875, 1.28125 , 1.421875, 1.59375 , 1.796875, 2.03125 ,\n",
              "       1.125   , 1.140625, 1.1875  , 1.265625, 1.375   , 1.515625,\n",
              "       1.6875  , 1.890625, 2.125   , 1.28125 , 1.296875, 1.34375 ,\n",
              "       1.421875, 1.53125 , 1.671875, 1.84375 , 2.046875, 2.28125 ,\n",
              "       1.5     , 1.515625, 1.5625  , 1.640625, 1.75    , 1.890625,\n",
              "       2.0625  , 2.265625, 2.5     , 1.78125 , 1.796875, 1.84375 ,\n",
              "       1.921875, 2.03125 , 2.171875, 2.34375 , 2.546875, 2.78125 ,\n",
              "       2.125   , 2.140625, 2.1875  , 2.265625, 2.375   , 2.515625,\n",
              "       2.6875  , 2.890625, 3.125   , 2.53125 , 2.546875, 2.59375 ,\n",
              "       2.671875, 2.78125 , 2.921875, 3.09375 , 3.296875, 3.53125 ,\n",
              "       3.      , 3.015625, 3.0625  , 3.140625, 3.25    , 3.390625,\n",
              "       3.5625  , 3.765625, 4.      ])"
            ]
          },
          "metadata": {
            "tags": []
          },
          "execution_count": 38
        }
      ]
    },
    {
      "cell_type": "code",
      "metadata": {
        "id": "KcJgYtaphqeh"
      },
      "source": [
        ""
      ],
      "execution_count": null,
      "outputs": []
    }
  ]
}